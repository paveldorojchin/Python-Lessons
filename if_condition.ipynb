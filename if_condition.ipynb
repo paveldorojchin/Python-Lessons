# ������� IF - ����������
name="Tom"
height=2
weight=150

bmi=weight/(height**2)
print('������ ����� ����:'+str(bmi))

if bmi < 25:
    print('� '+ name +' ��� ������� ����')
else:
    print('� '+ name +' ���� ������ ���')