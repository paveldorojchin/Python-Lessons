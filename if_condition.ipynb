# Condition IF - base
name="Tom"
height=2
weight=150

bmi=weight/(height**2)
print('Body weight index:'+str(bmi))

if bmi < 25:
    print('the '+ name +' have no overweight')
else:
    print('the '+ name +' have overweight')